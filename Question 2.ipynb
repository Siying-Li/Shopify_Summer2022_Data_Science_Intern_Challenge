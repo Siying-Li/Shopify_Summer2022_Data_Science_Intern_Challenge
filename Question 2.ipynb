{
 "cells": [
  {
   "cell_type": "markdown",
   "metadata": {},
   "source": [
    "Question 2: For this question you’ll need to use SQL. Follow this link to access the data set required for the challenge. Please use queries to answer the following questions. Paste your queries along with your final numerical answers below."
   ]
  },
  {
   "cell_type": "markdown",
   "metadata": {},
   "source": [
    "### 2.1 How many orders were shipped by Speedy Express in total?"
   ]
  },
  {
   "cell_type": "code",
   "execution_count": null,
   "metadata": {},
   "outputs": [],
   "source": [
    "%% sql\n",
    "\n",
    "SELECT count(distinct O.OrderID) FROM Orders O left join Shippers S\n",
    "on O.ShipperID = S.ShipperID\n",
    "where ShipperName = 'Speedy Express'"
   ]
  },
  {
   "cell_type": "markdown",
   "metadata": {},
   "source": [
    "**answer is 54**"
   ]
  },
  {
   "cell_type": "markdown",
   "metadata": {},
   "source": [
    "### 2.2 What is the last name of the employee with the most orders?"
   ]
  },
  {
   "cell_type": "code",
   "execution_count": null,
   "metadata": {},
   "outputs": [],
   "source": [
    "%% sql\n",
    "\n",
    "with Temp as\n",
    "(SELECT E.Lastname, count(distinct O.OrderID) as Total_Order FROM Orders O\n",
    "join Employees E\n",
    "on E.EmployeeID = O.EmployeeID\n",
    "Group by O.EmployeeID) \n",
    "\n",
    "select LastName, Total_Order from temp\n",
    "where temp.Total_Order = (select max(Total_Order) from Temp)"
   ]
  },
  {
   "cell_type": "markdown",
   "metadata": {},
   "source": [
    "**answer : Peacock**\n",
    "\n",
    "It has total 40 orders."
   ]
  },
  {
   "cell_type": "markdown",
   "metadata": {},
   "source": [
    "### 2.3 What product was ordered the most by customers in Germany?\n"
   ]
  },
  {
   "cell_type": "code",
   "execution_count": null,
   "metadata": {},
   "outputs": [],
   "source": [
    "%% sql\n",
    "\n",
    "With Ger_O as \n",
    "(SELECT O_Info.ProductID, sum(O_Info.Quantity) as Total_item from Customers C join\n",
    "(SELECT * FROM OrderDetails OD join Orders O\n",
    "on OD.OrderID = O.OrderID) O_Info\n",
    "on C.CustomerID = O_Info.CustomerID\n",
    "where C.Country = 'Germany'\n",
    "Group By O_Info.ProductID) \n",
    "\n",
    "select P.ProductName, MaxP.Total_item from Products P,\n",
    "(select * from Ger_O\n",
    "where Ger_O.Total_item = (select max(Ger_O.Total_item) from Ger_O))MaxP\n",
    "where MaxP.ProductID = P.ProductID"
   ]
  },
  {
   "cell_type": "markdown",
   "metadata": {},
   "source": [
    "**answer : Boston Crab Meat**\n",
    "\n",
    "There are total 160 unit of this product ordered by customers in Germany."
   ]
  },
  {
   "cell_type": "markdown",
   "metadata": {},
   "source": [
    "**Note**: In the question 2 and 3 there are several other methods to get the same answer in this dataset\n",
    "For example 1. First Order by specific column value in Desc order, and then use Limite 1 to get the highest result\n",
    "or 2. simplely use the max() function.\n",
    "**However this kind of methods can not go through the cases which have two or several same max value, they can only out put one record. \n",
    "The solution Given in my answer can output all the records with the highest value.**"
   ]
  },
  {
   "cell_type": "code",
   "execution_count": null,
   "metadata": {},
   "outputs": [],
   "source": []
  }
 ],
 "metadata": {
  "kernelspec": {
   "display_name": "Python 3",
   "language": "python",
   "name": "python3"
  },
  "language_info": {
   "codemirror_mode": {
    "name": "ipython",
    "version": 3
   },
   "file_extension": ".py",
   "mimetype": "text/x-python",
   "name": "python",
   "nbconvert_exporter": "python",
   "pygments_lexer": "ipython3",
   "version": "3.8.5"
  }
 },
 "nbformat": 4,
 "nbformat_minor": 4
}
